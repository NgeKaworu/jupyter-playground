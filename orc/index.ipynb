{
 "cells": [
  {
   "cell_type": "code",
   "execution_count": 6,
   "metadata": {},
   "outputs": [
    {
     "name": "stderr",
     "output_type": "stream",
     "text": [
      "Neither CUDA nor MPS are available - defaulting to CPU. Note: This module is much faster with a GPU.\n"
     ]
    },
    {
     "data": {
      "text/plain": [
       "['24',\n",
       " '管理经济学手册',\n",
       " '偿。这时 ,',\n",
       " '就必须停产。',\n",
       " '垄断市场中垄断企业的短期诀策原则是:',\n",
       " 'IR=SIC',\n",
       " '9。2。2',\n",
       " '企业的长期决策',\n",
       " '长堋中。垄断企业如果预期无法盈利。则会退出市场。否则。垄断企业为了使其',\n",
       " '垄断利润最大。会不断地调整生产规模,',\n",
       " '一直将生产规模调整到 MR =SMC = LC 的状态,',\n",
       " '最终实现长期均衡。冈此 _',\n",
       " '垄断市场中长堋均衡的条件是:',\n",
       " 'MR=INC=SMC。',\n",
       " '式中: n 为大于零的常数; SMC 表示调整到笫n种规模肘,',\n",
       " '垄断企业处于长期均衡。',\n",
       " '',\n",
       " '9。23',\n",
       " '垄断企业的供给曲线',\n",
       " '在垄断市场中。垄断企业的价格和产量并非一一对应的关系。也就是说',\n",
       " '垄断企业',\n",
       " '是没有供给曲线的。更一般的结论是:  凡是带有垄断因萘的不完全竞争市场,或者说,',\n",
       " '凡是单个企业对市场价格有一定的控制力最。单个企业的箫求曲线问右下方倾斜的市场,',\n",
       " '不存在企业或行业的供给曲线。',\n",
       " '9。2 4',\n",
       " '垄断企业的竞争战略',\n",
       " '在垄断市场,企业可以采取的竞争战略包括细分巾场和进人障碍。其中',\n",
       " '垄断企业',\n",
       " '可设罡的进人障碍包括:  绝对成本优势',\n",
       " '规棋经济。先行合约。剩余生产能力。先驱品',\n",
       " '牌优势。退出成本。信息障碍。',\n",
       " '9.',\n",
       " '3',\n",
       " '垄断管制',\n",
       " '9.',\n",
       " '3。1',\n",
       " '垄断与低效率',\n",
       " '(一)垄断与消费者剩余',\n",
       " '在垄断条件下。消费者剩余减少。相比于完全竞争市场。垄断市场将会损害消赞者',\n",
       " '利益。使消费者的福利减少。',\n",
       " '(二)垄断与寻租',\n",
       " '如果垄断企业试图说服政府把消赀者剩余转移到自己手里,那么该企业就是在进行',\n",
       " '需求转移支付的活动。在经济学中;这些寻求转移支付的活动通常被称为寻租。所谓寻',\n",
       " '租,是指个人和团体为了把别人的收人重新分配〈或转移)到自己手中而花费资源来影',\n",
       " '响公共政策的行为。寻租行为是符合个人理性的。因为它将使寻租者得到更大的利益,',\n",
       " '但是;它却会造成社会资源伪浪费。',\n",
       " '(三)垄断的|损失',\n",
       " '垄惭所带来消赞者剩氽诚少的部分是垄断的净损失。垄断所造成的损害还表现为',\n",
       " '对技术进步的阻碍。',\n",
       " '9.',\n",
       " '3。2',\n",
       " '政府对垄断的管制',\n",
       " '(一)价格管制',\n",
       " '政府一般对某些垄断企业企价格上进行控制,',\n",
       " '即政府从对社会有利及资源的有效利',\n",
       " '用的角度出发,对这些垄断企业制定价格上限。具体方法有:  按边际成本定价 (P=MC)',\n",
       " '或按平均成本定价 (PAC) , 这样可使垄断企业降低价格,扩大产黾,使资源得到更有',\n",
       " '效的利用。',\n",
       " '(二) 反垄断祛',\n",
       " '当垄断有害于消费者肘,政府可以通过立法来打破垄断或禁止垄断的形成。我国于',\n",
       " '2008 年8月1日开始实施《反垄断法》。']"
      ]
     },
     "execution_count": 6,
     "metadata": {},
     "output_type": "execute_result"
    }
   ],
   "source": [
    "import easyocr\n",
    "reader = easyocr.Reader(['ch_sim','en']) # this needs to run only once to load the model into memory\n",
    "result = reader.readtext('chinese.jpg', detail = 0)\n",
    "\n",
    "result"
   ]
  },
  {
   "cell_type": "code",
   "execution_count": 5,
   "metadata": {},
   "outputs": [
    {
     "data": {
      "text/plain": [
       "['9。2。3',\n",
       " '垄断企业的供给曲线',\n",
       " '在垄断巾场中_',\n",
       " '垄断企业的价格和产显并非-一对[的关系。也就足说 _',\n",
       " \"'断企业\",\n",
       " '是没:供绐曲线的。更 -般的结论是:  儿是带有垄断凶慕的不完全竞争 r场。或老说',\n",
       " '凡是单个企业对市场价将介 -定的控制力茛。单个企业的需求圃线问《下方倾斜的市场',\n",
       " '个在企业或行业的供绮曲线。']"
      ]
     },
     "execution_count": 5,
     "metadata": {},
     "output_type": "execute_result"
    }
   ],
   "source": [
    "result = reader.readtext('chinese2.png', detail = 0)\n",
    "\n",
    "result"
   ]
  }
 ],
 "metadata": {
  "kernelspec": {
   "display_name": "Python 3 (ipykernel)",
   "language": "python",
   "name": "python3"
  },
  "language_info": {
   "codemirror_mode": {
    "name": "ipython",
    "version": 3
   },
   "file_extension": ".py",
   "mimetype": "text/x-python",
   "name": "python",
   "nbconvert_exporter": "python",
   "pygments_lexer": "ipython3",
   "version": "3.11.0rc1"
  }
 },
 "nbformat": 4,
 "nbformat_minor": 2
}
